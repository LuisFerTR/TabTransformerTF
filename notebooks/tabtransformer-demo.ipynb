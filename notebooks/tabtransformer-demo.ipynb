{
 "cells": [
  {
   "cell_type": "code",
   "execution_count": 64,
   "id": "67febe95-dd8e-4564-8a5e-e641bb16906e",
   "metadata": {},
   "outputs": [],
   "source": [
    "import math\n",
    "import numpy as np\n",
    "import pandas as pd\n",
    "import tensorflow as tf\n",
    "from tensorflow import keras\n",
    "from tensorflow.keras import layers\n",
    "import tensorflow_addons as tfa\n",
    "import matplotlib.pyplot as plt\n",
    "from sklearn.model_selection import train_test_split\n",
    "from sklearn.metrics import roc_auc_score, average_precision_score\n",
    "from tensorflow.keras.callbacks import EarlyStopping\n",
    "\n",
    "from tabtransformertf.models.tabtransformer import TabTransformer\n",
    "from tabtransformertf.utils.preprocessing import df_to_dataset, build_categorical_prep"
   ]
  },
  {
   "cell_type": "markdown",
   "id": "3f89b597-3f3a-4079-bc7c-ad3fbf16dba8",
   "metadata": {},
   "source": [
    "## Download Data"
   ]
  },
  {
   "cell_type": "code",
   "execution_count": 21,
   "id": "e0c2547d-a0b7-478c-ae45-92e99dc6f113",
   "metadata": {},
   "outputs": [
    {
     "name": "stdout",
     "output_type": "stream",
     "text": [
      "Train dataset shape: (32561, 15)\n",
      "Test dataset shape: (16282, 15)\n"
     ]
    }
   ],
   "source": [
    "CSV_HEADER = [\n",
    "    \"age\",\n",
    "    \"workclass\",\n",
    "    \"fnlwgt\",\n",
    "    \"education\",\n",
    "    \"education_num\",\n",
    "    \"marital_status\",\n",
    "    \"occupation\",\n",
    "    \"relationship\",\n",
    "    \"race\",\n",
    "    \"gender\",\n",
    "    \"capital_gain\",\n",
    "    \"capital_loss\",\n",
    "    \"hours_per_week\",\n",
    "    \"native_country\",\n",
    "    \"income_bracket\",\n",
    "]\n",
    "\n",
    "train_data_url = (\n",
    "    \"https://archive.ics.uci.edu/ml/machine-learning-databases/adult/adult.data\"\n",
    ")\n",
    "train_data = pd.read_csv(train_data_url, header=None, names=CSV_HEADER)\n",
    "\n",
    "test_data_url = (\n",
    "    \"https://archive.ics.uci.edu/ml/machine-learning-databases/adult/adult.test\"\n",
    ")\n",
    "test_data = pd.read_csv(test_data_url, header=None, names=CSV_HEADER)\n",
    "\n",
    "print(f\"Train dataset shape: {train_data.shape}\")\n",
    "print(f\"Test dataset shape: {test_data.shape}\")"
   ]
  },
  {
   "cell_type": "code",
   "execution_count": 22,
   "id": "75521624-3f40-4aad-bbd4-cea5c5cb5782",
   "metadata": {},
   "outputs": [
    {
     "data": {
      "text/html": [
       "<div>\n",
       "<style scoped>\n",
       "    .dataframe tbody tr th:only-of-type {\n",
       "        vertical-align: middle;\n",
       "    }\n",
       "\n",
       "    .dataframe tbody tr th {\n",
       "        vertical-align: top;\n",
       "    }\n",
       "\n",
       "    .dataframe thead th {\n",
       "        text-align: right;\n",
       "    }\n",
       "</style>\n",
       "<table border=\"1\" class=\"dataframe\">\n",
       "  <thead>\n",
       "    <tr style=\"text-align: right;\">\n",
       "      <th></th>\n",
       "      <th>age</th>\n",
       "      <th>workclass</th>\n",
       "      <th>fnlwgt</th>\n",
       "      <th>education</th>\n",
       "      <th>education_num</th>\n",
       "      <th>marital_status</th>\n",
       "      <th>occupation</th>\n",
       "      <th>relationship</th>\n",
       "      <th>race</th>\n",
       "      <th>gender</th>\n",
       "      <th>capital_gain</th>\n",
       "      <th>capital_loss</th>\n",
       "      <th>hours_per_week</th>\n",
       "      <th>native_country</th>\n",
       "      <th>income_bracket</th>\n",
       "    </tr>\n",
       "  </thead>\n",
       "  <tbody>\n",
       "    <tr>\n",
       "      <th>0</th>\n",
       "      <td>39</td>\n",
       "      <td>State-gov</td>\n",
       "      <td>77516</td>\n",
       "      <td>Bachelors</td>\n",
       "      <td>13</td>\n",
       "      <td>Never-married</td>\n",
       "      <td>Adm-clerical</td>\n",
       "      <td>Not-in-family</td>\n",
       "      <td>White</td>\n",
       "      <td>Male</td>\n",
       "      <td>2174</td>\n",
       "      <td>0</td>\n",
       "      <td>40</td>\n",
       "      <td>United-States</td>\n",
       "      <td>&lt;=50K</td>\n",
       "    </tr>\n",
       "    <tr>\n",
       "      <th>1</th>\n",
       "      <td>50</td>\n",
       "      <td>Self-emp-not-inc</td>\n",
       "      <td>83311</td>\n",
       "      <td>Bachelors</td>\n",
       "      <td>13</td>\n",
       "      <td>Married-civ-spouse</td>\n",
       "      <td>Exec-managerial</td>\n",
       "      <td>Husband</td>\n",
       "      <td>White</td>\n",
       "      <td>Male</td>\n",
       "      <td>0</td>\n",
       "      <td>0</td>\n",
       "      <td>13</td>\n",
       "      <td>United-States</td>\n",
       "      <td>&lt;=50K</td>\n",
       "    </tr>\n",
       "    <tr>\n",
       "      <th>2</th>\n",
       "      <td>38</td>\n",
       "      <td>Private</td>\n",
       "      <td>215646</td>\n",
       "      <td>HS-grad</td>\n",
       "      <td>9</td>\n",
       "      <td>Divorced</td>\n",
       "      <td>Handlers-cleaners</td>\n",
       "      <td>Not-in-family</td>\n",
       "      <td>White</td>\n",
       "      <td>Male</td>\n",
       "      <td>0</td>\n",
       "      <td>0</td>\n",
       "      <td>40</td>\n",
       "      <td>United-States</td>\n",
       "      <td>&lt;=50K</td>\n",
       "    </tr>\n",
       "    <tr>\n",
       "      <th>3</th>\n",
       "      <td>53</td>\n",
       "      <td>Private</td>\n",
       "      <td>234721</td>\n",
       "      <td>11th</td>\n",
       "      <td>7</td>\n",
       "      <td>Married-civ-spouse</td>\n",
       "      <td>Handlers-cleaners</td>\n",
       "      <td>Husband</td>\n",
       "      <td>Black</td>\n",
       "      <td>Male</td>\n",
       "      <td>0</td>\n",
       "      <td>0</td>\n",
       "      <td>40</td>\n",
       "      <td>United-States</td>\n",
       "      <td>&lt;=50K</td>\n",
       "    </tr>\n",
       "    <tr>\n",
       "      <th>4</th>\n",
       "      <td>28</td>\n",
       "      <td>Private</td>\n",
       "      <td>338409</td>\n",
       "      <td>Bachelors</td>\n",
       "      <td>13</td>\n",
       "      <td>Married-civ-spouse</td>\n",
       "      <td>Prof-specialty</td>\n",
       "      <td>Wife</td>\n",
       "      <td>Black</td>\n",
       "      <td>Female</td>\n",
       "      <td>0</td>\n",
       "      <td>0</td>\n",
       "      <td>40</td>\n",
       "      <td>Cuba</td>\n",
       "      <td>&lt;=50K</td>\n",
       "    </tr>\n",
       "  </tbody>\n",
       "</table>\n",
       "</div>"
      ],
      "text/plain": [
       "   age          workclass  fnlwgt   education  education_num  \\\n",
       "0   39          State-gov   77516   Bachelors             13   \n",
       "1   50   Self-emp-not-inc   83311   Bachelors             13   \n",
       "2   38            Private  215646     HS-grad              9   \n",
       "3   53            Private  234721        11th              7   \n",
       "4   28            Private  338409   Bachelors             13   \n",
       "\n",
       "        marital_status          occupation    relationship    race   gender  \\\n",
       "0        Never-married        Adm-clerical   Not-in-family   White     Male   \n",
       "1   Married-civ-spouse     Exec-managerial         Husband   White     Male   \n",
       "2             Divorced   Handlers-cleaners   Not-in-family   White     Male   \n",
       "3   Married-civ-spouse   Handlers-cleaners         Husband   Black     Male   \n",
       "4   Married-civ-spouse      Prof-specialty            Wife   Black   Female   \n",
       "\n",
       "   capital_gain  capital_loss  hours_per_week  native_country income_bracket  \n",
       "0          2174             0              40   United-States          <=50K  \n",
       "1             0             0              13   United-States          <=50K  \n",
       "2             0             0              40   United-States          <=50K  \n",
       "3             0             0              40   United-States          <=50K  \n",
       "4             0             0              40            Cuba          <=50K  "
      ]
     },
     "execution_count": 22,
     "metadata": {},
     "output_type": "execute_result"
    }
   ],
   "source": [
    "train_data.head()"
   ]
  },
  {
   "cell_type": "markdown",
   "id": "89bff333-3750-46c9-b687-3f06a8f43845",
   "metadata": {},
   "source": [
    "## Preprocess"
   ]
  },
  {
   "cell_type": "code",
   "execution_count": 23,
   "id": "420201d9-eb7d-4873-bae8-2296fef046c4",
   "metadata": {},
   "outputs": [],
   "source": [
    "# Column information\n",
    "NUMERIC_FEATURES = train_data.select_dtypes(include=np.number).columns\n",
    "CATEGORICAL_FEATURES = train_data.select_dtypes(exclude=np.number).columns[:-1] # exclude label column and DT\n",
    "\n",
    "FEATURES = list(NUMERIC_FEATURES) + list(CATEGORICAL_FEATURES)\n",
    "LABEL = 'income_bracket'"
   ]
  },
  {
   "cell_type": "code",
   "execution_count": 26,
   "id": "aaa2d685-44be-410a-89cf-acdd4a069adb",
   "metadata": {},
   "outputs": [
    {
     "data": {
      "text/plain": [
       "(0.2408095574460244, 0.23621176759611842)"
      ]
     },
     "execution_count": 26,
     "metadata": {},
     "output_type": "execute_result"
    }
   ],
   "source": [
    "# encoding as binary target\n",
    "train_data[LABEL] = train_data[LABEL].apply(lambda x: int(x == ' >50K')) \n",
    "test_data[LABEL] = test_data[LABEL].apply(lambda x: int(x == ' >50K.'))\n",
    "train_data[LABEL].mean(), test_data[LABEL].mean()"
   ]
  },
  {
   "cell_type": "code",
   "execution_count": 35,
   "id": "677298dc-05fe-47ef-b40a-f5b1d62e8187",
   "metadata": {},
   "outputs": [],
   "source": [
    "test_data = test_data.iloc[1:, :] # drop invalid row"
   ]
  },
  {
   "cell_type": "code",
   "execution_count": 36,
   "id": "25986888-5dc1-497c-96c7-bc5e5411c105",
   "metadata": {},
   "outputs": [],
   "source": [
    "# Set data types\n",
    "train_data[CATEGORICAL_FEATURES] = train_data[CATEGORICAL_FEATURES].astype(str)\n",
    "test_data[CATEGORICAL_FEATURES] = test_data[CATEGORICAL_FEATURES].astype(str)\n",
    "\n",
    "train_data[NUMERIC_FEATURES] = train_data[NUMERIC_FEATURES].astype(float)\n",
    "test_data[NUMERIC_FEATURES] = test_data[NUMERIC_FEATURES].astype(float)"
   ]
  },
  {
   "cell_type": "code",
   "execution_count": 38,
   "id": "ad185875-9f9e-43b2-9422-40fe9ff66d7d",
   "metadata": {},
   "outputs": [],
   "source": [
    "# Train/test split\n",
    "X_train, X_val = train_test_split(train_data, test_size=0.2)"
   ]
  },
  {
   "cell_type": "markdown",
   "id": "a07ad92f-f1b9-46ad-9b61-831cbc903e22",
   "metadata": {},
   "source": [
    "## Modelling Prep"
   ]
  },
  {
   "cell_type": "code",
   "execution_count": 41,
   "id": "1592a15a-cf05-4a35-ba46-69e877998d32",
   "metadata": {},
   "outputs": [
    {
     "name": "stderr",
     "output_type": "stream",
     "text": [
      "  0%|                                                                                                                                   | 0/8 [00:00<?, ?it/s]2022-08-08 12:27:53.906949: I tensorflow/core/platform/cpu_feature_guard.cc:151] This TensorFlow binary is optimized with oneAPI Deep Neural Network Library (oneDNN) to use the following CPU instructions in performance-critical operations:  AVX2 FMA\n",
      "To enable them in other operations, rebuild TensorFlow with the appropriate compiler flags.\n",
      "100%|███████████████████████████████████████████████████████████████████████████████████████████████████████████████████████████| 8/8 [00:00<00:00, 66.49it/s]\n"
     ]
    }
   ],
   "source": [
    "# Category preprocessing layers\n",
    "category_prep_layers = build_categorical_prep(X_train, CATEGORICAL_FEATURES)"
   ]
  },
  {
   "cell_type": "code",
   "execution_count": 43,
   "id": "9bfdb641-4fec-4f2e-a84f-149a41e2a02b",
   "metadata": {},
   "outputs": [
    {
     "name": "stderr",
     "output_type": "stream",
     "text": [
      "/Users/antonsruberts/personal/TabTransformerTF/tabtransformertf/utils/preprocessing.py:18: FutureWarning: Support for multi-dimensional indexing (e.g. `obj[:, None]`) is deprecated and will be removed in a future version.  Convert to a numpy array before indexing instead.\n",
      "  dataset[key] = value[:, tf.newaxis]\n",
      "/Users/antonsruberts/personal/TabTransformerTF/tabtransformertf/utils/preprocessing.py:24: FutureWarning: Support for multi-dimensional indexing (e.g. `obj[:, None]`) is deprecated and will be removed in a future version.  Convert to a numpy array before indexing instead.\n",
      "  dataset[key] = value[:, tf.newaxis]\n"
     ]
    }
   ],
   "source": [
    "# To TF Dataset\n",
    "train_dataset = df_to_dataset(X_train[FEATURES + [LABEL]], LABEL)\n",
    "val_dataset = df_to_dataset(X_val[FEATURES + [LABEL]], LABEL, shuffle=False)  # No shuffle\n",
    "test_dataset = df_to_dataset(test_data[FEATURES + [LABEL]], shuffle=False) # No target, no shuffle"
   ]
  },
  {
   "cell_type": "markdown",
   "id": "abe05de6-639b-48b6-8387-e44be0d8db0c",
   "metadata": {},
   "source": [
    "## TabTransformer"
   ]
  },
  {
   "cell_type": "code",
   "execution_count": 44,
   "id": "67528470-3cf1-4c6a-8b62-c701f7eb774c",
   "metadata": {},
   "outputs": [],
   "source": [
    "tabtransformer = TabTransformer(\n",
    "    numerical_features = NUMERIC_FEATURES,\n",
    "    categorical_features = CATEGORICAL_FEATURES,\n",
    "    categorical_lookup=category_prep_layers,\n",
    "    numerical_discretisers=None, # simply passing the numeric features\n",
    "    embedding_dim=32,\n",
    "    out_dim=1,\n",
    "    out_activation='sigmoid',\n",
    "    depth=4,\n",
    "    heads=8,\n",
    "    attn_dropout=0.2,\n",
    "    ff_dropout=0.2,\n",
    "    mlp_hidden_factors=[2, 4],\n",
    "    use_column_embedding=True,\n",
    ")"
   ]
  },
  {
   "cell_type": "code",
   "execution_count": 45,
   "id": "6e9a2389-2a47-422b-a365-002fb5c6fc7d",
   "metadata": {},
   "outputs": [],
   "source": [
    "LEARNING_RATE = 0.0001\n",
    "WEIGHT_DECAY = 0.0001\n",
    "NUM_EPOCHS = 1000\n",
    "\n",
    "optimizer = tfa.optimizers.AdamW(\n",
    "        learning_rate=LEARNING_RATE, weight_decay=WEIGHT_DECAY\n",
    "    )\n",
    "\n",
    "tabtransformer.compile(\n",
    "    optimizer = optimizer,\n",
    "    loss = tf.keras.losses.BinaryCrossentropy(),\n",
    "    metrics= [tf.keras.metrics.AUC(name=\"PR AUC\", curve='PR')],\n",
    ")"
   ]
  },
  {
   "cell_type": "code",
   "execution_count": 48,
   "id": "4d6dfba2-3d79-45a2-ba1c-b954eda73432",
   "metadata": {
    "collapsed": true,
    "jupyter": {
     "outputs_hidden": true
    },
    "tags": []
   },
   "outputs": [
    {
     "name": "stdout",
     "output_type": "stream",
     "text": [
      "Epoch 1/1000\n",
      "51/51 [==============================] - 13s 163ms/step - loss: 0.7858 - PR AUC: 0.4142 - val_loss: 0.5020 - val_PR AUC: 0.6287\n",
      "Epoch 2/1000\n",
      "51/51 [==============================] - 8s 152ms/step - loss: 0.5966 - PR AUC: 0.5483 - val_loss: 0.4226 - val_PR AUC: 0.6620\n",
      "Epoch 3/1000\n",
      "51/51 [==============================] - 8s 154ms/step - loss: 0.5307 - PR AUC: 0.5763 - val_loss: 0.3854 - val_PR AUC: 0.6716\n",
      "Epoch 4/1000\n",
      "51/51 [==============================] - 10s 190ms/step - loss: 0.4732 - PR AUC: 0.6101 - val_loss: 0.3740 - val_PR AUC: 0.6776\n",
      "Epoch 5/1000\n",
      "51/51 [==============================] - 9s 178ms/step - loss: 0.4412 - PR AUC: 0.6263 - val_loss: 0.3700 - val_PR AUC: 0.6869\n",
      "Epoch 6/1000\n",
      "51/51 [==============================] - 8s 159ms/step - loss: 0.4220 - PR AUC: 0.6382 - val_loss: 0.3612 - val_PR AUC: 0.6906\n",
      "Epoch 7/1000\n",
      "51/51 [==============================] - 8s 155ms/step - loss: 0.4168 - PR AUC: 0.6439 - val_loss: 0.3596 - val_PR AUC: 0.6998\n",
      "Epoch 8/1000\n",
      "51/51 [==============================] - 8s 160ms/step - loss: 0.4106 - PR AUC: 0.6472 - val_loss: 0.3529 - val_PR AUC: 0.7039\n",
      "Epoch 9/1000\n",
      "51/51 [==============================] - 8s 162ms/step - loss: 0.4007 - PR AUC: 0.6602 - val_loss: 0.3510 - val_PR AUC: 0.7074\n",
      "Epoch 10/1000\n",
      "51/51 [==============================] - 9s 171ms/step - loss: 0.3922 - PR AUC: 0.6653 - val_loss: 0.3511 - val_PR AUC: 0.7126\n",
      "Epoch 11/1000\n",
      "51/51 [==============================] - 8s 163ms/step - loss: 0.3915 - PR AUC: 0.6671 - val_loss: 0.3445 - val_PR AUC: 0.7180\n",
      "Epoch 12/1000\n",
      "51/51 [==============================] - 8s 155ms/step - loss: 0.3865 - PR AUC: 0.6749 - val_loss: 0.3431 - val_PR AUC: 0.7220\n",
      "Epoch 13/1000\n",
      "51/51 [==============================] - 9s 178ms/step - loss: 0.3854 - PR AUC: 0.6741 - val_loss: 0.3449 - val_PR AUC: 0.7259\n",
      "Epoch 14/1000\n",
      "51/51 [==============================] - 9s 168ms/step - loss: 0.3826 - PR AUC: 0.6815 - val_loss: 0.3424 - val_PR AUC: 0.7271\n",
      "Epoch 15/1000\n",
      "51/51 [==============================] - 9s 168ms/step - loss: 0.3819 - PR AUC: 0.6793 - val_loss: 0.3374 - val_PR AUC: 0.7294\n",
      "Epoch 16/1000\n",
      "51/51 [==============================] - 8s 155ms/step - loss: 0.3780 - PR AUC: 0.6811 - val_loss: 0.3384 - val_PR AUC: 0.7301\n",
      "Epoch 17/1000\n",
      "51/51 [==============================] - 8s 158ms/step - loss: 0.3743 - PR AUC: 0.6899 - val_loss: 0.3392 - val_PR AUC: 0.7310\n",
      "Epoch 18/1000\n",
      "51/51 [==============================] - 8s 155ms/step - loss: 0.3722 - PR AUC: 0.6926 - val_loss: 0.3361 - val_PR AUC: 0.7339\n",
      "Epoch 19/1000\n",
      "51/51 [==============================] - 8s 159ms/step - loss: 0.3730 - PR AUC: 0.6893 - val_loss: 0.3422 - val_PR AUC: 0.7348\n",
      "Epoch 20/1000\n",
      "51/51 [==============================] - 9s 165ms/step - loss: 0.3683 - PR AUC: 0.6967 - val_loss: 0.3344 - val_PR AUC: 0.7345\n",
      "Epoch 21/1000\n",
      "51/51 [==============================] - 8s 154ms/step - loss: 0.3650 - PR AUC: 0.6997 - val_loss: 0.3347 - val_PR AUC: 0.7351\n",
      "Epoch 22/1000\n",
      "51/51 [==============================] - 9s 172ms/step - loss: 0.3664 - PR AUC: 0.6979 - val_loss: 0.3334 - val_PR AUC: 0.7356\n",
      "Epoch 23/1000\n",
      "51/51 [==============================] - 9s 176ms/step - loss: 0.3647 - PR AUC: 0.6999 - val_loss: 0.3358 - val_PR AUC: 0.7380\n",
      "Epoch 24/1000\n",
      "51/51 [==============================] - 8s 161ms/step - loss: 0.3629 - PR AUC: 0.7053 - val_loss: 0.3324 - val_PR AUC: 0.7366\n",
      "Epoch 25/1000\n",
      "51/51 [==============================] - 8s 159ms/step - loss: 0.3644 - PR AUC: 0.7020 - val_loss: 0.3308 - val_PR AUC: 0.7387\n",
      "Epoch 26/1000\n",
      "51/51 [==============================] - 8s 156ms/step - loss: 0.3610 - PR AUC: 0.7053 - val_loss: 0.3301 - val_PR AUC: 0.7395\n",
      "Epoch 27/1000\n",
      "51/51 [==============================] - 8s 159ms/step - loss: 0.3609 - PR AUC: 0.7070 - val_loss: 0.3300 - val_PR AUC: 0.7395\n",
      "Epoch 28/1000\n",
      "51/51 [==============================] - 8s 154ms/step - loss: 0.3597 - PR AUC: 0.7107 - val_loss: 0.3309 - val_PR AUC: 0.7385\n",
      "Epoch 29/1000\n",
      "51/51 [==============================] - 8s 154ms/step - loss: 0.3578 - PR AUC: 0.7114 - val_loss: 0.3341 - val_PR AUC: 0.7360\n",
      "Epoch 30/1000\n",
      "51/51 [==============================] - 8s 163ms/step - loss: 0.3574 - PR AUC: 0.7098 - val_loss: 0.3310 - val_PR AUC: 0.7390\n",
      "Epoch 31/1000\n",
      "51/51 [==============================] - 9s 176ms/step - loss: 0.3557 - PR AUC: 0.7140 - val_loss: 0.3292 - val_PR AUC: 0.7411\n",
      "Epoch 32/1000\n",
      "51/51 [==============================] - 8s 158ms/step - loss: 0.3554 - PR AUC: 0.7135 - val_loss: 0.3286 - val_PR AUC: 0.7419\n",
      "Epoch 33/1000\n",
      "51/51 [==============================] - 8s 152ms/step - loss: 0.3539 - PR AUC: 0.7164 - val_loss: 0.3323 - val_PR AUC: 0.7408\n",
      "Epoch 34/1000\n",
      "51/51 [==============================] - 8s 159ms/step - loss: 0.3545 - PR AUC: 0.7147 - val_loss: 0.3284 - val_PR AUC: 0.7420\n",
      "Epoch 35/1000\n",
      "51/51 [==============================] - 8s 156ms/step - loss: 0.3554 - PR AUC: 0.7159 - val_loss: 0.3293 - val_PR AUC: 0.7416\n",
      "Epoch 36/1000\n",
      "51/51 [==============================] - 8s 158ms/step - loss: 0.3505 - PR AUC: 0.7207 - val_loss: 0.3326 - val_PR AUC: 0.7408\n",
      "Epoch 37/1000\n",
      "51/51 [==============================] - 9s 165ms/step - loss: 0.3521 - PR AUC: 0.7190 - val_loss: 0.3329 - val_PR AUC: 0.7431\n",
      "Epoch 38/1000\n",
      "51/51 [==============================] - 9s 169ms/step - loss: 0.3500 - PR AUC: 0.7202 - val_loss: 0.3289 - val_PR AUC: 0.7430\n",
      "Epoch 39/1000\n",
      "51/51 [==============================] - 9s 163ms/step - loss: 0.3493 - PR AUC: 0.7240 - val_loss: 0.3286 - val_PR AUC: 0.7423\n",
      "Epoch 40/1000\n",
      "51/51 [==============================] - 9s 164ms/step - loss: 0.3495 - PR AUC: 0.7207 - val_loss: 0.3280 - val_PR AUC: 0.7424\n",
      "Epoch 41/1000\n",
      "51/51 [==============================] - 9s 172ms/step - loss: 0.3487 - PR AUC: 0.7222 - val_loss: 0.3325 - val_PR AUC: 0.7408\n",
      "Epoch 42/1000\n",
      "51/51 [==============================] - 10s 185ms/step - loss: 0.3484 - PR AUC: 0.7243 - val_loss: 0.3279 - val_PR AUC: 0.7424\n",
      "Epoch 43/1000\n",
      "51/51 [==============================] - 9s 171ms/step - loss: 0.3493 - PR AUC: 0.7215 - val_loss: 0.3335 - val_PR AUC: 0.7415\n",
      "Epoch 44/1000\n",
      "51/51 [==============================] - 9s 166ms/step - loss: 0.3508 - PR AUC: 0.7202 - val_loss: 0.3280 - val_PR AUC: 0.7428\n",
      "Epoch 45/1000\n",
      "51/51 [==============================] - 8s 157ms/step - loss: 0.3454 - PR AUC: 0.7283 - val_loss: 0.3289 - val_PR AUC: 0.7433\n",
      "Epoch 46/1000\n",
      "51/51 [==============================] - 8s 156ms/step - loss: 0.3477 - PR AUC: 0.7239 - val_loss: 0.3286 - val_PR AUC: 0.7428\n",
      "Epoch 47/1000\n",
      "51/51 [==============================] - 8s 158ms/step - loss: 0.3462 - PR AUC: 0.7275 - val_loss: 0.3294 - val_PR AUC: 0.7428\n",
      "Epoch 48/1000\n",
      "51/51 [==============================] - 9s 172ms/step - loss: 0.3450 - PR AUC: 0.7286 - val_loss: 0.3296 - val_PR AUC: 0.7422\n",
      "Epoch 49/1000\n",
      "51/51 [==============================] - 9s 164ms/step - loss: 0.3481 - PR AUC: 0.7234 - val_loss: 0.3274 - val_PR AUC: 0.7429\n",
      "Epoch 50/1000\n",
      "51/51 [==============================] - 8s 153ms/step - loss: 0.3459 - PR AUC: 0.7269 - val_loss: 0.3281 - val_PR AUC: 0.7440\n",
      "Epoch 51/1000\n",
      "51/51 [==============================] - 8s 155ms/step - loss: 0.3461 - PR AUC: 0.7275 - val_loss: 0.3289 - val_PR AUC: 0.7430\n",
      "Epoch 52/1000\n",
      "51/51 [==============================] - 8s 162ms/step - loss: 0.3454 - PR AUC: 0.7290 - val_loss: 0.3301 - val_PR AUC: 0.7441\n",
      "Epoch 53/1000\n",
      "51/51 [==============================] - 8s 163ms/step - loss: 0.3424 - PR AUC: 0.7318 - val_loss: 0.3297 - val_PR AUC: 0.7435\n",
      "Epoch 54/1000\n",
      "51/51 [==============================] - 8s 154ms/step - loss: 0.3431 - PR AUC: 0.7306 - val_loss: 0.3325 - val_PR AUC: 0.7432\n",
      "Epoch 55/1000\n",
      "51/51 [==============================] - 9s 171ms/step - loss: 0.3441 - PR AUC: 0.7284 - val_loss: 0.3270 - val_PR AUC: 0.7436\n",
      "Epoch 56/1000\n",
      "51/51 [==============================] - 10s 195ms/step - loss: 0.3413 - PR AUC: 0.7328 - val_loss: 0.3267 - val_PR AUC: 0.7443\n",
      "Epoch 57/1000\n",
      "51/51 [==============================] - 10s 202ms/step - loss: 0.3421 - PR AUC: 0.7324 - val_loss: 0.3266 - val_PR AUC: 0.7441\n",
      "Epoch 58/1000\n",
      "51/51 [==============================] - 9s 174ms/step - loss: 0.3436 - PR AUC: 0.7301 - val_loss: 0.3338 - val_PR AUC: 0.7423\n",
      "Epoch 59/1000\n",
      "51/51 [==============================] - 9s 174ms/step - loss: 0.3432 - PR AUC: 0.7294 - val_loss: 0.3293 - val_PR AUC: 0.7443\n",
      "Epoch 60/1000\n",
      "51/51 [==============================] - 9s 180ms/step - loss: 0.3415 - PR AUC: 0.7318 - val_loss: 0.3278 - val_PR AUC: 0.7444\n",
      "Epoch 61/1000\n",
      "51/51 [==============================] - 10s 202ms/step - loss: 0.3416 - PR AUC: 0.7337 - val_loss: 0.3285 - val_PR AUC: 0.7432\n",
      "Epoch 62/1000\n",
      "51/51 [==============================] - 11s 205ms/step - loss: 0.3427 - PR AUC: 0.7304 - val_loss: 0.3279 - val_PR AUC: 0.7434\n",
      "Epoch 63/1000\n",
      "51/51 [==============================] - 9s 180ms/step - loss: 0.3406 - PR AUC: 0.7345 - val_loss: 0.3272 - val_PR AUC: 0.7433\n",
      "Epoch 64/1000\n",
      "51/51 [==============================] - 9s 169ms/step - loss: 0.3426 - PR AUC: 0.7306 - val_loss: 0.3267 - val_PR AUC: 0.7437\n",
      "Epoch 65/1000\n",
      "51/51 [==============================] - 9s 169ms/step - loss: 0.3400 - PR AUC: 0.7344 - val_loss: 0.3271 - val_PR AUC: 0.7434\n",
      "Epoch 66/1000\n",
      "51/51 [==============================] - 9s 174ms/step - loss: 0.3403 - PR AUC: 0.7344 - val_loss: 0.3261 - val_PR AUC: 0.7442\n",
      "Epoch 67/1000\n",
      "51/51 [==============================] - 9s 179ms/step - loss: 0.3395 - PR AUC: 0.7349 - val_loss: 0.3287 - val_PR AUC: 0.7433\n",
      "Epoch 68/1000\n",
      "51/51 [==============================] - 9s 181ms/step - loss: 0.3403 - PR AUC: 0.7334 - val_loss: 0.3285 - val_PR AUC: 0.7444\n",
      "Epoch 69/1000\n",
      "51/51 [==============================] - 9s 174ms/step - loss: 0.3417 - PR AUC: 0.7340 - val_loss: 0.3261 - val_PR AUC: 0.7442\n",
      "Epoch 70/1000\n",
      "51/51 [==============================] - 8s 163ms/step - loss: 0.3407 - PR AUC: 0.7336 - val_loss: 0.3273 - val_PR AUC: 0.7450\n",
      "Epoch 71/1000\n",
      "51/51 [==============================] - 9s 166ms/step - loss: 0.3405 - PR AUC: 0.7324 - val_loss: 0.3269 - val_PR AUC: 0.7444\n",
      "Epoch 72/1000\n",
      "51/51 [==============================] - 9s 172ms/step - loss: 0.3386 - PR AUC: 0.7375 - val_loss: 0.3258 - val_PR AUC: 0.7448\n",
      "Epoch 73/1000\n",
      "51/51 [==============================] - 9s 171ms/step - loss: 0.3390 - PR AUC: 0.7353 - val_loss: 0.3270 - val_PR AUC: 0.7447\n",
      "Epoch 74/1000\n",
      "51/51 [==============================] - 8s 163ms/step - loss: 0.3400 - PR AUC: 0.7344 - val_loss: 0.3279 - val_PR AUC: 0.7433\n",
      "Epoch 75/1000\n",
      "51/51 [==============================] - 10s 202ms/step - loss: 0.3404 - PR AUC: 0.7343 - val_loss: 0.3304 - val_PR AUC: 0.7428\n",
      "Epoch 76/1000\n",
      "51/51 [==============================] - 9s 170ms/step - loss: 0.3382 - PR AUC: 0.7374 - val_loss: 0.3265 - val_PR AUC: 0.7441\n",
      "Epoch 77/1000\n",
      "51/51 [==============================] - 8s 162ms/step - loss: 0.3379 - PR AUC: 0.7377 - val_loss: 0.3410 - val_PR AUC: 0.7421\n",
      "Epoch 78/1000\n",
      "51/51 [==============================] - 8s 159ms/step - loss: 0.3384 - PR AUC: 0.7365 - val_loss: 0.3281 - val_PR AUC: 0.7439\n",
      "Epoch 79/1000\n",
      "51/51 [==============================] - 9s 164ms/step - loss: 0.3387 - PR AUC: 0.7360 - val_loss: 0.3264 - val_PR AUC: 0.7445\n",
      "Epoch 80/1000\n",
      "51/51 [==============================] - 9s 164ms/step - loss: 0.3386 - PR AUC: 0.7368 - val_loss: 0.3264 - val_PR AUC: 0.7441\n",
      "Epoch 81/1000\n",
      "51/51 [==============================] - 8s 161ms/step - loss: 0.3380 - PR AUC: 0.7363 - val_loss: 0.3263 - val_PR AUC: 0.7442\n",
      "Epoch 82/1000\n",
      "51/51 [==============================] - 8s 161ms/step - loss: 0.3381 - PR AUC: 0.7364 - val_loss: 0.3260 - val_PR AUC: 0.7442\n"
     ]
    }
   ],
   "source": [
    "early = EarlyStopping(monitor=\"val_loss\", mode=\"min\", patience=10, restore_best_weights=True)\n",
    "callback_list = [early]\n",
    "\n",
    "history = tabtransformer.fit(\n",
    "    train_dataset, \n",
    "    epochs=NUM_EPOCHS, \n",
    "    validation_data=val_dataset,\n",
    "    callbacks=callback_list\n",
    ")"
   ]
  },
  {
   "cell_type": "code",
   "execution_count": 49,
   "id": "2f62dea2-531c-4e8b-991c-37c1f5e73fbe",
   "metadata": {},
   "outputs": [],
   "source": [
    "test_preds = tabtransformer.predict(test_dataset)"
   ]
  },
  {
   "cell_type": "code",
   "execution_count": 66,
   "id": "2852b3bf-73d4-46c5-9daf-289d9190168c",
   "metadata": {},
   "outputs": [
    {
     "name": "stdout",
     "output_type": "stream",
     "text": [
      "Test ROC AUC: 0.8961\n",
      "Test PR AUC: 0.7356\n"
     ]
    }
   ],
   "source": [
    "print(\"Test ROC AUC:\", np.round(roc_auc_score(test_data[LABEL], test_preds.ravel()), 4))\n",
    "print(\"Test PR AUC:\", np.round(average_precision_score(test_data[LABEL], test_preds.ravel()), 4))"
   ]
  }
 ],
 "metadata": {
  "kernelspec": {
   "display_name": "blog",
   "language": "python",
   "name": "blog"
  },
  "language_info": {
   "codemirror_mode": {
    "name": "ipython",
    "version": 3
   },
   "file_extension": ".py",
   "mimetype": "text/x-python",
   "name": "python",
   "nbconvert_exporter": "python",
   "pygments_lexer": "ipython3",
   "version": "3.9.4"
  }
 },
 "nbformat": 4,
 "nbformat_minor": 5
}
