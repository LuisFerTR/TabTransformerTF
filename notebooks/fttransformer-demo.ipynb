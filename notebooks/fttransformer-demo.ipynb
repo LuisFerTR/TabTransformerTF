{
 "cells": [
  {
   "cell_type": "code",
   "execution_count": 1,
   "id": "67febe95-dd8e-4564-8a5e-e641bb16906e",
   "metadata": {},
   "outputs": [
    {
     "name": "stderr",
     "output_type": "stream",
     "text": [
      "/Users/antonsruberts/miniconda/envs/blog/lib/python3.9/site-packages/tensorflow_addons/utils/ensure_tf_install.py:53: UserWarning: Tensorflow Addons supports using Python ops for all Tensorflow versions above or equal to 2.4.0 and strictly below 2.7.0 (nightly versions are not supported). \n",
      " The versions of TensorFlow you are currently using is 2.7.0 and is not supported. \n",
      "Some things might work, some things might not.\n",
      "If you were to encounter a bug, do not file an issue.\n",
      "If you want to make sure you're using a tested and supported configuration, either change the TensorFlow version or the TensorFlow Addons's version. \n",
      "You can find the compatibility matrix in TensorFlow Addon's readme:\n",
      "https://github.com/tensorflow/addons\n",
      "  warnings.warn(\n"
     ]
    }
   ],
   "source": [
    "import math\n",
    "import numpy as np\n",
    "import pandas as pd\n",
    "import tensorflow as tf\n",
    "from tensorflow import keras\n",
    "from tensorflow.keras import layers\n",
    "import tensorflow_addons as tfa\n",
    "import matplotlib.pyplot as plt\n",
    "from sklearn.model_selection import train_test_split\n",
    "from sklearn.metrics import roc_auc_score, average_precision_score, accuracy_score\n",
    "from tensorflow.keras.callbacks import EarlyStopping\n",
    "\n",
    "from tabtransformertf.models.fttransformer import FTTransformerEncoder, FTTransformer\n",
    "from tabtransformertf.utils.preprocessing import df_to_dataset, build_categorical_prep\n"
   ]
  },
  {
   "cell_type": "code",
   "execution_count": 2,
   "id": "a44d4949-4d7f-4f55-abcf-5184756d4814",
   "metadata": {},
   "outputs": [],
   "source": [
    "%matplotlib inline\n",
    "plt.rcParams[\"figure.figsize\"] = (20,10)\n",
    "plt.rcParams.update({'font.size': 15})"
   ]
  },
  {
   "cell_type": "markdown",
   "id": "3f89b597-3f3a-4079-bc7c-ad3fbf16dba8",
   "metadata": {},
   "source": [
    "## Download Data"
   ]
  },
  {
   "cell_type": "code",
   "execution_count": 3,
   "id": "e0c2547d-a0b7-478c-ae45-92e99dc6f113",
   "metadata": {},
   "outputs": [
    {
     "name": "stdout",
     "output_type": "stream",
     "text": [
      "Train dataset shape: (32561, 15)\n",
      "Test dataset shape: (16282, 15)\n"
     ]
    }
   ],
   "source": [
    "CSV_HEADER = [\n",
    "    \"age\",\n",
    "    \"workclass\",\n",
    "    \"fnlwgt\",\n",
    "    \"education\",\n",
    "    \"education_num\",\n",
    "    \"marital_status\",\n",
    "    \"occupation\",\n",
    "    \"relationship\",\n",
    "    \"race\",\n",
    "    \"gender\",\n",
    "    \"capital_gain\",\n",
    "    \"capital_loss\",\n",
    "    \"hours_per_week\",\n",
    "    \"native_country\",\n",
    "    \"income_bracket\",\n",
    "]\n",
    "\n",
    "train_data_url = (\n",
    "    \"https://archive.ics.uci.edu/ml/machine-learning-databases/adult/adult.data\"\n",
    ")\n",
    "train_data = pd.read_csv(train_data_url, header=None, names=CSV_HEADER)\n",
    "\n",
    "test_data_url = (\n",
    "    \"https://archive.ics.uci.edu/ml/machine-learning-databases/adult/adult.test\"\n",
    ")\n",
    "test_data = pd.read_csv(test_data_url, header=None, names=CSV_HEADER)\n",
    "\n",
    "print(f\"Train dataset shape: {train_data.shape}\")\n",
    "print(f\"Test dataset shape: {test_data.shape}\")"
   ]
  },
  {
   "cell_type": "code",
   "execution_count": 4,
   "id": "75521624-3f40-4aad-bbd4-cea5c5cb5782",
   "metadata": {},
   "outputs": [
    {
     "data": {
      "text/html": [
       "<div>\n",
       "<style scoped>\n",
       "    .dataframe tbody tr th:only-of-type {\n",
       "        vertical-align: middle;\n",
       "    }\n",
       "\n",
       "    .dataframe tbody tr th {\n",
       "        vertical-align: top;\n",
       "    }\n",
       "\n",
       "    .dataframe thead th {\n",
       "        text-align: right;\n",
       "    }\n",
       "</style>\n",
       "<table border=\"1\" class=\"dataframe\">\n",
       "  <thead>\n",
       "    <tr style=\"text-align: right;\">\n",
       "      <th></th>\n",
       "      <th>age</th>\n",
       "      <th>workclass</th>\n",
       "      <th>fnlwgt</th>\n",
       "      <th>education</th>\n",
       "      <th>education_num</th>\n",
       "      <th>marital_status</th>\n",
       "      <th>occupation</th>\n",
       "      <th>relationship</th>\n",
       "      <th>race</th>\n",
       "      <th>gender</th>\n",
       "      <th>capital_gain</th>\n",
       "      <th>capital_loss</th>\n",
       "      <th>hours_per_week</th>\n",
       "      <th>native_country</th>\n",
       "      <th>income_bracket</th>\n",
       "    </tr>\n",
       "  </thead>\n",
       "  <tbody>\n",
       "    <tr>\n",
       "      <th>0</th>\n",
       "      <td>39</td>\n",
       "      <td>State-gov</td>\n",
       "      <td>77516</td>\n",
       "      <td>Bachelors</td>\n",
       "      <td>13</td>\n",
       "      <td>Never-married</td>\n",
       "      <td>Adm-clerical</td>\n",
       "      <td>Not-in-family</td>\n",
       "      <td>White</td>\n",
       "      <td>Male</td>\n",
       "      <td>2174</td>\n",
       "      <td>0</td>\n",
       "      <td>40</td>\n",
       "      <td>United-States</td>\n",
       "      <td>&lt;=50K</td>\n",
       "    </tr>\n",
       "    <tr>\n",
       "      <th>1</th>\n",
       "      <td>50</td>\n",
       "      <td>Self-emp-not-inc</td>\n",
       "      <td>83311</td>\n",
       "      <td>Bachelors</td>\n",
       "      <td>13</td>\n",
       "      <td>Married-civ-spouse</td>\n",
       "      <td>Exec-managerial</td>\n",
       "      <td>Husband</td>\n",
       "      <td>White</td>\n",
       "      <td>Male</td>\n",
       "      <td>0</td>\n",
       "      <td>0</td>\n",
       "      <td>13</td>\n",
       "      <td>United-States</td>\n",
       "      <td>&lt;=50K</td>\n",
       "    </tr>\n",
       "    <tr>\n",
       "      <th>2</th>\n",
       "      <td>38</td>\n",
       "      <td>Private</td>\n",
       "      <td>215646</td>\n",
       "      <td>HS-grad</td>\n",
       "      <td>9</td>\n",
       "      <td>Divorced</td>\n",
       "      <td>Handlers-cleaners</td>\n",
       "      <td>Not-in-family</td>\n",
       "      <td>White</td>\n",
       "      <td>Male</td>\n",
       "      <td>0</td>\n",
       "      <td>0</td>\n",
       "      <td>40</td>\n",
       "      <td>United-States</td>\n",
       "      <td>&lt;=50K</td>\n",
       "    </tr>\n",
       "    <tr>\n",
       "      <th>3</th>\n",
       "      <td>53</td>\n",
       "      <td>Private</td>\n",
       "      <td>234721</td>\n",
       "      <td>11th</td>\n",
       "      <td>7</td>\n",
       "      <td>Married-civ-spouse</td>\n",
       "      <td>Handlers-cleaners</td>\n",
       "      <td>Husband</td>\n",
       "      <td>Black</td>\n",
       "      <td>Male</td>\n",
       "      <td>0</td>\n",
       "      <td>0</td>\n",
       "      <td>40</td>\n",
       "      <td>United-States</td>\n",
       "      <td>&lt;=50K</td>\n",
       "    </tr>\n",
       "    <tr>\n",
       "      <th>4</th>\n",
       "      <td>28</td>\n",
       "      <td>Private</td>\n",
       "      <td>338409</td>\n",
       "      <td>Bachelors</td>\n",
       "      <td>13</td>\n",
       "      <td>Married-civ-spouse</td>\n",
       "      <td>Prof-specialty</td>\n",
       "      <td>Wife</td>\n",
       "      <td>Black</td>\n",
       "      <td>Female</td>\n",
       "      <td>0</td>\n",
       "      <td>0</td>\n",
       "      <td>40</td>\n",
       "      <td>Cuba</td>\n",
       "      <td>&lt;=50K</td>\n",
       "    </tr>\n",
       "  </tbody>\n",
       "</table>\n",
       "</div>"
      ],
      "text/plain": [
       "   age          workclass  fnlwgt   education  education_num  \\\n",
       "0   39          State-gov   77516   Bachelors             13   \n",
       "1   50   Self-emp-not-inc   83311   Bachelors             13   \n",
       "2   38            Private  215646     HS-grad              9   \n",
       "3   53            Private  234721        11th              7   \n",
       "4   28            Private  338409   Bachelors             13   \n",
       "\n",
       "        marital_status          occupation    relationship    race   gender  \\\n",
       "0        Never-married        Adm-clerical   Not-in-family   White     Male   \n",
       "1   Married-civ-spouse     Exec-managerial         Husband   White     Male   \n",
       "2             Divorced   Handlers-cleaners   Not-in-family   White     Male   \n",
       "3   Married-civ-spouse   Handlers-cleaners         Husband   Black     Male   \n",
       "4   Married-civ-spouse      Prof-specialty            Wife   Black   Female   \n",
       "\n",
       "   capital_gain  capital_loss  hours_per_week  native_country income_bracket  \n",
       "0          2174             0              40   United-States          <=50K  \n",
       "1             0             0              13   United-States          <=50K  \n",
       "2             0             0              40   United-States          <=50K  \n",
       "3             0             0              40   United-States          <=50K  \n",
       "4             0             0              40            Cuba          <=50K  "
      ]
     },
     "execution_count": 4,
     "metadata": {},
     "output_type": "execute_result"
    }
   ],
   "source": [
    "train_data.head()"
   ]
  },
  {
   "cell_type": "markdown",
   "id": "89bff333-3750-46c9-b687-3f06a8f43845",
   "metadata": {},
   "source": [
    "## Preprocess"
   ]
  },
  {
   "cell_type": "code",
   "execution_count": 5,
   "id": "420201d9-eb7d-4873-bae8-2296fef046c4",
   "metadata": {},
   "outputs": [],
   "source": [
    "# Column information\n",
    "NUMERIC_FEATURES = ['age', 'education_num', 'capital_gain', 'capital_loss', 'hours_per_week']\n",
    "CATEGORICAL_FEATURES = ['workclass', 'education', 'marital_status', 'occupation', 'relationship', 'race', 'gender', 'native_country']\n",
    "\n",
    "FEATURES = list(NUMERIC_FEATURES) + list(CATEGORICAL_FEATURES)\n",
    "LABEL = 'income_bracket'"
   ]
  },
  {
   "cell_type": "code",
   "execution_count": 6,
   "id": "aaa2d685-44be-410a-89cf-acdd4a069adb",
   "metadata": {},
   "outputs": [
    {
     "data": {
      "text/plain": [
       "(0.2408095574460244, 0.23621176759611842)"
      ]
     },
     "execution_count": 6,
     "metadata": {},
     "output_type": "execute_result"
    }
   ],
   "source": [
    "# encoding as binary target\n",
    "train_data[LABEL] = train_data[LABEL].apply(lambda x: int(x == ' >50K')) \n",
    "test_data[LABEL] = test_data[LABEL].apply(lambda x: int(x == ' >50K.'))\n",
    "train_data[LABEL].mean(), test_data[LABEL].mean()"
   ]
  },
  {
   "cell_type": "code",
   "execution_count": 7,
   "id": "677298dc-05fe-47ef-b40a-f5b1d62e8187",
   "metadata": {},
   "outputs": [],
   "source": [
    "test_data = test_data.iloc[1:, :] # drop invalid row"
   ]
  },
  {
   "cell_type": "code",
   "execution_count": 8,
   "id": "25986888-5dc1-497c-96c7-bc5e5411c105",
   "metadata": {},
   "outputs": [],
   "source": [
    "# Set data types\n",
    "train_data[CATEGORICAL_FEATURES] = train_data[CATEGORICAL_FEATURES].astype(str)\n",
    "test_data[CATEGORICAL_FEATURES] = test_data[CATEGORICAL_FEATURES].astype(str)\n",
    "\n",
    "train_data[NUMERIC_FEATURES] = train_data[NUMERIC_FEATURES].astype(float)\n",
    "test_data[NUMERIC_FEATURES] = test_data[NUMERIC_FEATURES].astype(float)"
   ]
  },
  {
   "cell_type": "code",
   "execution_count": 9,
   "id": "ad185875-9f9e-43b2-9422-40fe9ff66d7d",
   "metadata": {},
   "outputs": [],
   "source": [
    "# Train/test split\n",
    "X_train, X_val = train_test_split(train_data, test_size=0.2)"
   ]
  },
  {
   "cell_type": "markdown",
   "id": "a07ad92f-f1b9-46ad-9b61-831cbc903e22",
   "metadata": {},
   "source": [
    "## Modelling Prep"
   ]
  },
  {
   "cell_type": "code",
   "execution_count": 10,
   "id": "1592a15a-cf05-4a35-ba46-69e877998d32",
   "metadata": {},
   "outputs": [
    {
     "name": "stderr",
     "output_type": "stream",
     "text": [
      "  0%|                                                                                                                                                    | 0/8 [00:00<?, ?it/s]2022-10-19 16:38:35.583240: I tensorflow/core/platform/cpu_feature_guard.cc:151] This TensorFlow binary is optimized with oneAPI Deep Neural Network Library (oneDNN) to use the following CPU instructions in performance-critical operations:  AVX2 FMA\n",
      "To enable them in other operations, rebuild TensorFlow with the appropriate compiler flags.\n",
      "100%|███████████████████████████████████████████████████████████████████████████████████████████████████████████████████████████████████████████| 8/8 [00:00<00:00, 120.92it/s]\n"
     ]
    }
   ],
   "source": [
    "# Category preprocessing layers\n",
    "category_prep_layers = build_categorical_prep(X_train, CATEGORICAL_FEATURES)"
   ]
  },
  {
   "cell_type": "code",
   "execution_count": 11,
   "id": "9bfdb641-4fec-4f2e-a84f-149a41e2a02b",
   "metadata": {},
   "outputs": [
    {
     "name": "stderr",
     "output_type": "stream",
     "text": [
      "/Users/antonsruberts/personal/TabTransformerTF/tabtransformertf/utils/preprocessing.py:20: FutureWarning: Support for multi-dimensional indexing (e.g. `obj[:, None]`) is deprecated and will be removed in a future version.  Convert to a numpy array before indexing instead.\n",
      "  dataset[key] = value[:, tf.newaxis]\n",
      "/Users/antonsruberts/personal/TabTransformerTF/tabtransformertf/utils/preprocessing.py:26: FutureWarning: Support for multi-dimensional indexing (e.g. `obj[:, None]`) is deprecated and will be removed in a future version.  Convert to a numpy array before indexing instead.\n",
      "  dataset[key] = value[:, tf.newaxis]\n"
     ]
    }
   ],
   "source": [
    "train_dataset = df_to_dataset(X_train[FEATURES + [LABEL]], LABEL)\n",
    "val_dataset = df_to_dataset(X_val[FEATURES + [LABEL]], LABEL, shuffle=False)  # No shuffle\n",
    "test_dataset = df_to_dataset(test_data[FEATURES + [LABEL]], shuffle=False) # No target, no shuffle"
   ]
  },
  {
   "cell_type": "markdown",
   "id": "abe05de6-639b-48b6-8387-e44be0d8db0c",
   "metadata": {},
   "source": [
    "# FTTransformer"
   ]
  },
  {
   "cell_type": "markdown",
   "id": "9342c4cd-d309-420f-b966-c6377030d6d4",
   "metadata": {},
   "source": [
    "## FT Transformer - Linear Numerical Encoding"
   ]
  },
  {
   "cell_type": "code",
   "execution_count": 26,
   "id": "e29156d1-7d28-439b-9e00-2a98e38f1fb1",
   "metadata": {
    "tags": []
   },
   "outputs": [
    {
     "name": "stdout",
     "output_type": "stream",
     "text": [
      "Epoch 1/1000\n",
      "51/51 [==============================] - 15s 204ms/step - loss: 0.5262 - output_loss: 0.5262 - output_PR AUC: 0.3896 - val_loss: 0.5012 - val_output_loss: 0.5012 - val_output_PR AUC: 0.4907\n",
      "Epoch 2/1000\n",
      "51/51 [==============================] - 10s 198ms/step - loss: 0.4893 - output_loss: 0.4893 - output_PR AUC: 0.4914 - val_loss: 0.4746 - val_output_loss: 0.4746 - val_output_PR AUC: 0.5987\n",
      "Epoch 3/1000\n",
      "51/51 [==============================] - 9s 177ms/step - loss: 0.4762 - output_loss: 0.4762 - output_PR AUC: 0.5243 - val_loss: 0.4653 - val_output_loss: 0.4653 - val_output_PR AUC: 0.6332\n",
      "Epoch 4/1000\n",
      "51/51 [==============================] - 9s 180ms/step - loss: 0.4247 - output_loss: 0.4247 - output_PR AUC: 0.6277 - val_loss: 0.3550 - val_output_loss: 0.3550 - val_output_PR AUC: 0.7381\n",
      "Epoch 5/1000\n",
      "51/51 [==============================] - 9s 179ms/step - loss: 0.3581 - output_loss: 0.3581 - output_PR AUC: 0.7175 - val_loss: 0.3413 - val_output_loss: 0.3413 - val_output_PR AUC: 0.7689\n",
      "Epoch 6/1000\n",
      "51/51 [==============================] - 9s 169ms/step - loss: 0.3335 - output_loss: 0.3335 - output_PR AUC: 0.7479 - val_loss: 0.3271 - val_output_loss: 0.3271 - val_output_PR AUC: 0.7676\n",
      "Epoch 7/1000\n",
      "51/51 [==============================] - 9s 167ms/step - loss: 0.3293 - output_loss: 0.3293 - output_PR AUC: 0.7508 - val_loss: 0.3300 - val_output_loss: 0.3300 - val_output_PR AUC: 0.7767\n",
      "Epoch 8/1000\n",
      "51/51 [==============================] - 9s 169ms/step - loss: 0.3204 - output_loss: 0.3204 - output_PR AUC: 0.7671 - val_loss: 0.3211 - val_output_loss: 0.3211 - val_output_PR AUC: 0.7793\n",
      "Epoch 9/1000\n",
      "51/51 [==============================] - 9s 169ms/step - loss: 0.3201 - output_loss: 0.3201 - output_PR AUC: 0.7637 - val_loss: 0.3262 - val_output_loss: 0.3262 - val_output_PR AUC: 0.7770\n",
      "Epoch 10/1000\n",
      "51/51 [==============================] - 9s 169ms/step - loss: 0.3177 - output_loss: 0.3177 - output_PR AUC: 0.7707 - val_loss: 0.3168 - val_output_loss: 0.3168 - val_output_PR AUC: 0.7819\n",
      "Epoch 11/1000\n",
      "51/51 [==============================] - 9s 167ms/step - loss: 0.3174 - output_loss: 0.3174 - output_PR AUC: 0.7698 - val_loss: 0.3234 - val_output_loss: 0.3234 - val_output_PR AUC: 0.7840\n",
      "Epoch 12/1000\n",
      "51/51 [==============================] - 9s 168ms/step - loss: 0.3167 - output_loss: 0.3167 - output_PR AUC: 0.7718 - val_loss: 0.3184 - val_output_loss: 0.3184 - val_output_PR AUC: 0.7837\n",
      "Epoch 13/1000\n",
      "51/51 [==============================] - 9s 166ms/step - loss: 0.3161 - output_loss: 0.3161 - output_PR AUC: 0.7735 - val_loss: 0.3158 - val_output_loss: 0.3158 - val_output_PR AUC: 0.7822\n",
      "Epoch 14/1000\n",
      "51/51 [==============================] - 9s 165ms/step - loss: 0.3208 - output_loss: 0.3208 - output_PR AUC: 0.7648 - val_loss: 0.3167 - val_output_loss: 0.3167 - val_output_PR AUC: 0.7831\n",
      "Epoch 15/1000\n",
      "51/51 [==============================] - 9s 169ms/step - loss: 0.3113 - output_loss: 0.3113 - output_PR AUC: 0.7792 - val_loss: 0.3180 - val_output_loss: 0.3180 - val_output_PR AUC: 0.7791\n",
      "Epoch 16/1000\n",
      "51/51 [==============================] - 9s 167ms/step - loss: 0.3156 - output_loss: 0.3156 - output_PR AUC: 0.7722 - val_loss: 0.3209 - val_output_loss: 0.3209 - val_output_PR AUC: 0.7833\n",
      "Epoch 17/1000\n",
      "51/51 [==============================] - 9s 166ms/step - loss: 0.3140 - output_loss: 0.3140 - output_PR AUC: 0.7769 - val_loss: 0.3192 - val_output_loss: 0.3192 - val_output_PR AUC: 0.7793\n",
      "Epoch 18/1000\n",
      "51/51 [==============================] - 9s 168ms/step - loss: 0.3110 - output_loss: 0.3110 - output_PR AUC: 0.7777 - val_loss: 0.3165 - val_output_loss: 0.3165 - val_output_PR AUC: 0.7830\n",
      "Epoch 19/1000\n",
      "51/51 [==============================] - 9s 165ms/step - loss: 0.3098 - output_loss: 0.3098 - output_PR AUC: 0.7804 - val_loss: 0.3175 - val_output_loss: 0.3175 - val_output_PR AUC: 0.7840\n",
      "Epoch 20/1000\n",
      "51/51 [==============================] - 9s 165ms/step - loss: 0.3095 - output_loss: 0.3095 - output_PR AUC: 0.7813 - val_loss: 0.3175 - val_output_loss: 0.3175 - val_output_PR AUC: 0.7783\n",
      "Epoch 21/1000\n",
      "51/51 [==============================] - 9s 166ms/step - loss: 0.3098 - output_loss: 0.3098 - output_PR AUC: 0.7818 - val_loss: 0.3218 - val_output_loss: 0.3218 - val_output_PR AUC: 0.7772\n",
      "Epoch 22/1000\n",
      "51/51 [==============================] - 9s 164ms/step - loss: 0.3102 - output_loss: 0.3102 - output_PR AUC: 0.7800 - val_loss: 0.3165 - val_output_loss: 0.3165 - val_output_PR AUC: 0.7848\n",
      "Epoch 23/1000\n",
      "51/51 [==============================] - 8s 163ms/step - loss: 0.3082 - output_loss: 0.3082 - output_PR AUC: 0.7828 - val_loss: 0.3146 - val_output_loss: 0.3146 - val_output_PR AUC: 0.7852\n",
      "Epoch 24/1000\n",
      "51/51 [==============================] - 9s 170ms/step - loss: 0.3097 - output_loss: 0.3097 - output_PR AUC: 0.7805 - val_loss: 0.3206 - val_output_loss: 0.3206 - val_output_PR AUC: 0.7841\n",
      "Epoch 25/1000\n",
      "51/51 [==============================] - 8s 164ms/step - loss: 0.3086 - output_loss: 0.3086 - output_PR AUC: 0.7819 - val_loss: 0.3175 - val_output_loss: 0.3175 - val_output_PR AUC: 0.7837\n",
      "Epoch 26/1000\n",
      "51/51 [==============================] - 9s 166ms/step - loss: 0.3089 - output_loss: 0.3089 - output_PR AUC: 0.7820 - val_loss: 0.3173 - val_output_loss: 0.3173 - val_output_PR AUC: 0.7835\n",
      "Epoch 27/1000\n",
      "51/51 [==============================] - 9s 165ms/step - loss: 0.3074 - output_loss: 0.3074 - output_PR AUC: 0.7844 - val_loss: 0.3178 - val_output_loss: 0.3178 - val_output_PR AUC: 0.7806\n",
      "Epoch 28/1000\n",
      "51/51 [==============================] - 9s 171ms/step - loss: 0.3083 - output_loss: 0.3083 - output_PR AUC: 0.7817 - val_loss: 0.3219 - val_output_loss: 0.3219 - val_output_PR AUC: 0.7837\n",
      "Epoch 29/1000\n",
      "51/51 [==============================] - 9s 169ms/step - loss: 0.3068 - output_loss: 0.3068 - output_PR AUC: 0.7861 - val_loss: 0.3179 - val_output_loss: 0.3179 - val_output_PR AUC: 0.7812\n",
      "Epoch 30/1000\n",
      "51/51 [==============================] - 9s 169ms/step - loss: 0.3054 - output_loss: 0.3054 - output_PR AUC: 0.7862 - val_loss: 0.3143 - val_output_loss: 0.3143 - val_output_PR AUC: 0.7835\n",
      "Epoch 31/1000\n",
      "51/51 [==============================] - 9s 171ms/step - loss: 0.3069 - output_loss: 0.3069 - output_PR AUC: 0.7852 - val_loss: 0.3178 - val_output_loss: 0.3178 - val_output_PR AUC: 0.7781\n",
      "Epoch 32/1000\n",
      "51/51 [==============================] - 9s 172ms/step - loss: 0.3067 - output_loss: 0.3067 - output_PR AUC: 0.7840 - val_loss: 0.3142 - val_output_loss: 0.3142 - val_output_PR AUC: 0.7848\n",
      "Epoch 33/1000\n",
      "51/51 [==============================] - 9s 174ms/step - loss: 0.3078 - output_loss: 0.3078 - output_PR AUC: 0.7837 - val_loss: 0.3169 - val_output_loss: 0.3169 - val_output_PR AUC: 0.7812\n",
      "Epoch 34/1000\n",
      "51/51 [==============================] - 9s 165ms/step - loss: 0.3054 - output_loss: 0.3054 - output_PR AUC: 0.7864 - val_loss: 0.3168 - val_output_loss: 0.3168 - val_output_PR AUC: 0.7822\n",
      "Epoch 35/1000\n",
      "51/51 [==============================] - 9s 167ms/step - loss: 0.3039 - output_loss: 0.3039 - output_PR AUC: 0.7889 - val_loss: 0.3174 - val_output_loss: 0.3174 - val_output_PR AUC: 0.7768\n",
      "Epoch 36/1000\n",
      "51/51 [==============================] - 9s 168ms/step - loss: 0.3074 - output_loss: 0.3074 - output_PR AUC: 0.7830 - val_loss: 0.3157 - val_output_loss: 0.3157 - val_output_PR AUC: 0.7843\n",
      "Epoch 37/1000\n",
      "51/51 [==============================] - 9s 170ms/step - loss: 0.3090 - output_loss: 0.3090 - output_PR AUC: 0.7817 - val_loss: 0.3176 - val_output_loss: 0.3176 - val_output_PR AUC: 0.7837\n",
      "Epoch 38/1000\n",
      "51/51 [==============================] - 9s 170ms/step - loss: 0.3051 - output_loss: 0.3051 - output_PR AUC: 0.7868 - val_loss: 0.3156 - val_output_loss: 0.3156 - val_output_PR AUC: 0.7811\n",
      "Epoch 39/1000\n",
      "51/51 [==============================] - 9s 177ms/step - loss: 0.3060 - output_loss: 0.3060 - output_PR AUC: 0.7845 - val_loss: 0.3163 - val_output_loss: 0.3163 - val_output_PR AUC: 0.7805\n",
      "Epoch 40/1000\n",
      "51/51 [==============================] - 9s 180ms/step - loss: 0.3039 - output_loss: 0.3039 - output_PR AUC: 0.7877 - val_loss: 0.3147 - val_output_loss: 0.3147 - val_output_PR AUC: 0.7849\n",
      "Epoch 41/1000\n",
      "51/51 [==============================] - 10s 201ms/step - loss: 0.3041 - output_loss: 0.3041 - output_PR AUC: 0.7890 - val_loss: 0.3138 - val_output_loss: 0.3138 - val_output_PR AUC: 0.7865\n",
      "Epoch 42/1000\n",
      "51/51 [==============================] - 10s 185ms/step - loss: 0.3029 - output_loss: 0.3029 - output_PR AUC: 0.7901 - val_loss: 0.3144 - val_output_loss: 0.3144 - val_output_PR AUC: 0.7864\n",
      "Epoch 43/1000\n",
      "51/51 [==============================] - 10s 184ms/step - loss: 0.3035 - output_loss: 0.3035 - output_PR AUC: 0.7893 - val_loss: 0.3155 - val_output_loss: 0.3155 - val_output_PR AUC: 0.7833\n",
      "Epoch 44/1000\n",
      "51/51 [==============================] - 9s 180ms/step - loss: 0.3034 - output_loss: 0.3034 - output_PR AUC: 0.7886 - val_loss: 0.3148 - val_output_loss: 0.3148 - val_output_PR AUC: 0.7864\n",
      "Epoch 45/1000\n",
      "51/51 [==============================] - 9s 171ms/step - loss: 0.3026 - output_loss: 0.3026 - output_PR AUC: 0.7886 - val_loss: 0.3119 - val_output_loss: 0.3119 - val_output_PR AUC: 0.7860\n",
      "Epoch 46/1000\n",
      "51/51 [==============================] - 9s 180ms/step - loss: 0.3039 - output_loss: 0.3039 - output_PR AUC: 0.7880 - val_loss: 0.3117 - val_output_loss: 0.3117 - val_output_PR AUC: 0.7860\n",
      "Epoch 47/1000\n",
      "51/51 [==============================] - 9s 174ms/step - loss: 0.3045 - output_loss: 0.3045 - output_PR AUC: 0.7877 - val_loss: 0.3152 - val_output_loss: 0.3152 - val_output_PR AUC: 0.7859\n",
      "Epoch 48/1000\n",
      "51/51 [==============================] - 9s 164ms/step - loss: 0.3039 - output_loss: 0.3039 - output_PR AUC: 0.7880 - val_loss: 0.3122 - val_output_loss: 0.3122 - val_output_PR AUC: 0.7874\n",
      "Epoch 49/1000\n",
      "51/51 [==============================] - 8s 164ms/step - loss: 0.3041 - output_loss: 0.3041 - output_PR AUC: 0.7876 - val_loss: 0.3140 - val_output_loss: 0.3140 - val_output_PR AUC: 0.7850\n",
      "Epoch 50/1000\n",
      "51/51 [==============================] - 8s 163ms/step - loss: 0.3020 - output_loss: 0.3020 - output_PR AUC: 0.7922 - val_loss: 0.3141 - val_output_loss: 0.3141 - val_output_PR AUC: 0.7878\n",
      "Epoch 51/1000\n",
      "51/51 [==============================] - 9s 167ms/step - loss: 0.3019 - output_loss: 0.3019 - output_PR AUC: 0.7912 - val_loss: 0.3120 - val_output_loss: 0.3120 - val_output_PR AUC: 0.7877\n",
      "Epoch 52/1000\n",
      "51/51 [==============================] - 8s 163ms/step - loss: 0.3026 - output_loss: 0.3026 - output_PR AUC: 0.7893 - val_loss: 0.3176 - val_output_loss: 0.3176 - val_output_PR AUC: 0.7851\n",
      "Epoch 53/1000\n",
      "51/51 [==============================] - 9s 164ms/step - loss: 0.3013 - output_loss: 0.3013 - output_PR AUC: 0.7918 - val_loss: 0.3202 - val_output_loss: 0.3202 - val_output_PR AUC: 0.7748\n",
      "Epoch 54/1000\n",
      "51/51 [==============================] - 9s 173ms/step - loss: 0.3033 - output_loss: 0.3033 - output_PR AUC: 0.7884 - val_loss: 0.3155 - val_output_loss: 0.3155 - val_output_PR AUC: 0.7845\n",
      "Epoch 55/1000\n",
      "51/51 [==============================] - 9s 175ms/step - loss: 0.3029 - output_loss: 0.3029 - output_PR AUC: 0.7891 - val_loss: 0.3170 - val_output_loss: 0.3170 - val_output_PR AUC: 0.7856\n",
      "Epoch 56/1000\n",
      "51/51 [==============================] - 9s 174ms/step - loss: 0.3022 - output_loss: 0.3022 - output_PR AUC: 0.7902 - val_loss: 0.3145 - val_output_loss: 0.3145 - val_output_PR AUC: 0.7858\n",
      "Epoch 57/1000\n",
      "51/51 [==============================] - 9s 177ms/step - loss: 0.3027 - output_loss: 0.3027 - output_PR AUC: 0.7888 - val_loss: 0.3133 - val_output_loss: 0.3133 - val_output_PR AUC: 0.7861\n",
      "Epoch 58/1000\n",
      "51/51 [==============================] - 9s 176ms/step - loss: 0.3005 - output_loss: 0.3005 - output_PR AUC: 0.7921 - val_loss: 0.3123 - val_output_loss: 0.3123 - val_output_PR AUC: 0.7870\n",
      "Epoch 59/1000\n",
      "51/51 [==============================] - 9s 164ms/step - loss: 0.3021 - output_loss: 0.3021 - output_PR AUC: 0.7911 - val_loss: 0.3181 - val_output_loss: 0.3181 - val_output_PR AUC: 0.7851\n",
      "Epoch 60/1000\n",
      "51/51 [==============================] - 9s 166ms/step - loss: 0.3017 - output_loss: 0.3017 - output_PR AUC: 0.7907 - val_loss: 0.3259 - val_output_loss: 0.3259 - val_output_PR AUC: 0.7837\n",
      "Epoch 61/1000\n",
      "51/51 [==============================] - 9s 165ms/step - loss: 0.3004 - output_loss: 0.3004 - output_PR AUC: 0.7929 - val_loss: 0.3130 - val_output_loss: 0.3130 - val_output_PR AUC: 0.7872\n",
      "Epoch 62/1000\n",
      "51/51 [==============================] - 9s 178ms/step - loss: 0.2998 - output_loss: 0.2998 - output_PR AUC: 0.7929 - val_loss: 0.3136 - val_output_loss: 0.3136 - val_output_PR AUC: 0.7847\n",
      "Epoch 63/1000\n",
      "51/51 [==============================] - 9s 167ms/step - loss: 0.3008 - output_loss: 0.3008 - output_PR AUC: 0.7920 - val_loss: 0.3126 - val_output_loss: 0.3126 - val_output_PR AUC: 0.7852\n",
      "Epoch 64/1000\n",
      "51/51 [==============================] - 9s 174ms/step - loss: 0.2989 - output_loss: 0.2989 - output_PR AUC: 0.7942 - val_loss: 0.3147 - val_output_loss: 0.3147 - val_output_PR AUC: 0.7860\n",
      "Epoch 65/1000\n",
      "51/51 [==============================] - 9s 178ms/step - loss: 0.3012 - output_loss: 0.3012 - output_PR AUC: 0.7906 - val_loss: 0.3145 - val_output_loss: 0.3145 - val_output_PR AUC: 0.7819\n",
      "Epoch 66/1000\n",
      "51/51 [==============================] - 9s 168ms/step - loss: 0.3002 - output_loss: 0.3002 - output_PR AUC: 0.7933 - val_loss: 0.3130 - val_output_loss: 0.3130 - val_output_PR AUC: 0.7858\n"
     ]
    }
   ],
   "source": [
    "ft_linear_encoder = FTTransformerEncoder(\n",
    "    numerical_features = NUMERIC_FEATURES,\n",
    "    categorical_features = CATEGORICAL_FEATURES,\n",
    "    categorical_lookup=category_prep_layers,\n",
    "    numerical_embeddings=None, # None for linear\n",
    "    numerical_embedding_type='linear',\n",
    "    embedding_dim=16,\n",
    "    depth=4,\n",
    "    heads=8,\n",
    "    attn_dropout=0.2,\n",
    "    ff_dropout=0.2,\n",
    "    use_column_embedding=True,\n",
    "    explainable=True\n",
    ")\n",
    "\n",
    "# Pass the encoder to the model\n",
    "ft_linear_transformer = FTTransformer(\n",
    "    encoder=ft_linear_encoder,\n",
    "    out_dim=1,\n",
    "    out_activation='sigmoid',\n",
    "    final_layer_size=32,\n",
    ")\n",
    "\n",
    "LEARNING_RATE = 0.001\n",
    "WEIGHT_DECAY = 0.0001\n",
    "NUM_EPOCHS = 1000\n",
    "\n",
    "optimizer = tfa.optimizers.AdamW(\n",
    "        learning_rate=LEARNING_RATE, weight_decay=WEIGHT_DECAY\n",
    "    )\n",
    "\n",
    "ft_linear_transformer.compile(\n",
    "    optimizer = optimizer,\n",
    "    loss = {\"output\": tf.keras.losses.BinaryCrossentropy(), \"importances\": None},\n",
    "    metrics= {\"output\": [tf.keras.metrics.AUC(name=\"PR AUC\", curve='PR')], \"importances\": None},\n",
    ")\n",
    "\n",
    "early = EarlyStopping(monitor=\"val_output_loss\", mode=\"min\", patience=20, restore_best_weights=True)\n",
    "callback_list = [early]\n",
    "\n",
    "ft_linear_history = ft_linear_transformer.fit(\n",
    "    train_dataset, \n",
    "    epochs=NUM_EPOCHS, \n",
    "    validation_data=val_dataset,\n",
    "    callbacks=callback_list\n",
    ")"
   ]
  },
  {
   "cell_type": "code",
   "execution_count": 27,
   "id": "902ec742-d2c1-47ba-88d9-3ab4153108fb",
   "metadata": {},
   "outputs": [
    {
     "data": {
      "image/png": "[encoded data removed]",
      "text/plain": [
       "<Figure size 1440x720 with 2 Axes>"
      ]
     },
     "metadata": {
      "needs_background": "light"
     },
     "output_type": "display_data"
    }
   ],
   "source": [
    "fig, ax = plt.subplots(nrows=1, ncols=2)\n",
    "\n",
    "ax[0].plot(ft_linear_history.history['loss'], label='Training Loss')\n",
    "ax[0].plot(ft_linear_history.history['val_loss'], label='Validation Loss')\n",
    "ax[0].legend()\n",
    "\n",
    "ax[1].plot(ft_linear_history.history['output_PR AUC'], label='Training PR AUC')\n",
    "ax[1].plot(ft_linear_history.history['val_output_PR AUC'], label='Validation PR AUC')\n",
    "ax[1].legend()\n",
    "\n",
    "plt.show()"
   ]
  },
  {
   "cell_type": "code",
   "execution_count": 28,
   "id": "7a4df2a6-0005-446f-a400-4a16d1249bd4",
   "metadata": {},
   "outputs": [
    {
     "name": "stdout",
     "output_type": "stream",
     "text": [
      "FT-Transformer with Linear Numerical Embedding\n",
      "Test ROC AUC: 0.9115\n",
      "Test PR AUC: 0.7808\n",
      "Test Accuracy: 0.8566\n"
     ]
    }
   ],
   "source": [
    "linear_test_preds = ft_linear_transformer.predict(test_dataset)\n",
    "print(\"FT-Transformer with Linear Numerical Embedding\")\n",
    "print(\"Test ROC AUC:\", np.round(roc_auc_score(test_data[LABEL], linear_test_preds['output'].ravel()), 4))\n",
    "print(\"Test PR AUC:\", np.round(average_precision_score(test_data[LABEL], linear_test_preds['output'].ravel()), 4))\n",
    "print(\"Test Accuracy:\", np.round(accuracy_score(test_data[LABEL], linear_test_preds['output'].ravel()>0.5), 4))\n",
    "\n",
    "# Reported accuracy - 0.858"
   ]
  },
  {
   "cell_type": "markdown",
   "id": "343588c8-1298-47c9-bc29-99204e6c31a7",
   "metadata": {},
   "source": [
    "## Explainability"
   ]
  },
  {
   "cell_type": "code",
   "execution_count": 29,
   "id": "9dd10ad9-4cd2-49b8-88c0-ab3f39f09354",
   "metadata": {},
   "outputs": [],
   "source": [
    "def get_model_importances(importances, title=\"Importances\"):\n",
    "    imps_sorted = importances.mean().sort_values(ascending=False)\n",
    "    \n",
    "    plt.figure(figsize=(15,7))\n",
    "    ax = imps_sorted.plot.bar()\n",
    "    for p in ax.patches:\n",
    "        ax.annotate(str(np.round(p.get_height(), 4)), (p.get_x(), p.get_height() * 1.01))\n",
    "    plt.title(title)\n",
    "    plt.show()\n",
    "    \n",
    "    return imps_sorted\n"
   ]
  },
  {
   "cell_type": "code",
   "execution_count": 30,
   "id": "3259bde0-affa-46f8-801b-0a0b5870f8d5",
   "metadata": {},
   "outputs": [
    {
     "data": {
      "image/png": "[encoded data removed]",
      "text/plain": [
       "<Figure size 1080x504 with 1 Axes>"
      ]
     },
     "metadata": {
      "needs_background": "light"
     },
     "output_type": "display_data"
    }
   ],
   "source": [
    "linear_importances = linear_test_preds['importances']\n",
    "linear_importances_df = pd.DataFrame(linear_importances[:, :-1], columns = FEATURES)\n",
    "linear_total_importances = get_model_importances(\n",
    "    linear_importances_df, title=\"Importances for FT-Transformer with Linear Numerical Embedddings\"\n",
    ")"
   ]
  },
  {
   "cell_type": "code",
   "execution_count": 34,
   "id": "27c656f9-da32-4e2b-bf83-1e74e35f819c",
   "metadata": {},
   "outputs": [
    {
     "name": "stdout",
     "output_type": "stream",
     "text": [
      "Top 5 contributions to row 3887 which was scored 0.9899\n"
     ]
    },
    {
     "data": {
      "text/html": [
       "<div>\n",
       "<style scoped>\n",
       "    .dataframe tbody tr th:only-of-type {\n",
       "        vertical-align: middle;\n",
       "    }\n",
       "\n",
       "    .dataframe tbody tr th {\n",
       "        vertical-align: top;\n",
       "    }\n",
       "\n",
       "    .dataframe thead th {\n",
       "        text-align: right;\n",
       "    }\n",
       "</style>\n",
       "<table border=\"1\" class=\"dataframe\">\n",
       "  <thead>\n",
       "    <tr style=\"text-align: right;\">\n",
       "      <th></th>\n",
       "      <th>Importance</th>\n",
       "      <th>Example Vlaue</th>\n",
       "    </tr>\n",
       "  </thead>\n",
       "  <tbody>\n",
       "    <tr>\n",
       "      <th>capital_gain</th>\n",
       "      <td>0.150594</td>\n",
       "      <td>99999.0</td>\n",
       "    </tr>\n",
       "    <tr>\n",
       "      <th>age</th>\n",
       "      <td>0.081061</td>\n",
       "      <td>63.0</td>\n",
       "    </tr>\n",
       "    <tr>\n",
       "      <th>education_num</th>\n",
       "      <td>0.076949</td>\n",
       "      <td>15.0</td>\n",
       "    </tr>\n",
       "    <tr>\n",
       "      <th>hours_per_week</th>\n",
       "      <td>0.075520</td>\n",
       "      <td>60.0</td>\n",
       "    </tr>\n",
       "    <tr>\n",
       "      <th>occupation</th>\n",
       "      <td>0.075161</td>\n",
       "      <td>Prof-specialty</td>\n",
       "    </tr>\n",
       "  </tbody>\n",
       "</table>\n",
       "</div>"
      ],
      "text/plain": [
       "                Importance    Example Vlaue\n",
       "capital_gain      0.150594          99999.0\n",
       "age               0.081061             63.0\n",
       "education_num     0.076949             15.0\n",
       "hours_per_week    0.075520             60.0\n",
       "occupation        0.075161   Prof-specialty"
      ]
     },
     "metadata": {},
     "output_type": "display_data"
    },
    {
     "name": "stdout",
     "output_type": "stream",
     "text": [
      "Top 5 contributions to row 1416 which was scored 0.0019\n"
     ]
    },
    {
     "data": {
      "text/html": [
       "<div>\n",
       "<style scoped>\n",
       "    .dataframe tbody tr th:only-of-type {\n",
       "        vertical-align: middle;\n",
       "    }\n",
       "\n",
       "    .dataframe tbody tr th {\n",
       "        vertical-align: top;\n",
       "    }\n",
       "\n",
       "    .dataframe thead th {\n",
       "        text-align: right;\n",
       "    }\n",
       "</style>\n",
       "<table border=\"1\" class=\"dataframe\">\n",
       "  <thead>\n",
       "    <tr style=\"text-align: right;\">\n",
       "      <th></th>\n",
       "      <th>Importance</th>\n",
       "      <th>Example Vlaue</th>\n",
       "    </tr>\n",
       "  </thead>\n",
       "  <tbody>\n",
       "    <tr>\n",
       "      <th>age</th>\n",
       "      <td>0.095947</td>\n",
       "      <td>18.0</td>\n",
       "    </tr>\n",
       "    <tr>\n",
       "      <th>marital_status</th>\n",
       "      <td>0.090907</td>\n",
       "      <td>Never-married</td>\n",
       "    </tr>\n",
       "    <tr>\n",
       "      <th>occupation</th>\n",
       "      <td>0.083567</td>\n",
       "      <td>Other-service</td>\n",
       "    </tr>\n",
       "    <tr>\n",
       "      <th>relationship</th>\n",
       "      <td>0.082105</td>\n",
       "      <td>Own-child</td>\n",
       "    </tr>\n",
       "    <tr>\n",
       "      <th>hours_per_week</th>\n",
       "      <td>0.073552</td>\n",
       "      <td>15.0</td>\n",
       "    </tr>\n",
       "  </tbody>\n",
       "</table>\n",
       "</div>"
      ],
      "text/plain": [
       "                Importance   Example Vlaue\n",
       "age               0.095947            18.0\n",
       "marital_status    0.090907   Never-married\n",
       "occupation        0.083567   Other-service\n",
       "relationship      0.082105       Own-child\n",
       "hours_per_week    0.073552            15.0"
      ]
     },
     "metadata": {},
     "output_type": "display_data"
    }
   ],
   "source": [
    "# Largest prediction\n",
    "max_idx = np.argsort(linear_test_preds['output'].ravel())[-1]\n",
    "example_importance_linear = linear_importances_df.iloc[max_idx, :].sort_values(ascending=False).rename(\"Importance\").to_frame().join(\n",
    "    test_data.iloc[max_idx, :].rename(\"Example Vlaue\")\n",
    ").head(5)\n",
    "print(f\"Top 5 contributions to row {max_idx} which was scored {str(np.round(linear_test_preds['output'].ravel()[max_idx], 4))}\")\n",
    "display(example_importance_linear)\n",
    "\n",
    "# Smallest one\n",
    "min_idx = np.argsort(linear_test_preds['output'].ravel())[1]\n",
    "example_importance_linear = linear_importances_df.iloc[min_idx, :].sort_values(ascending=False).rename(\"Importance\").to_frame().join(\n",
    "    test_data.iloc[min_idx, :].rename(\"Example Vlaue\")\n",
    ").head(5)\n",
    "print(f\"Top 5 contributions to row {min_idx} which was scored {str(np.round(linear_test_preds['output'].ravel()[min_idx], 4))}\")\n",
    "display(example_importance_linear)"
   ]
  },
  {
   "cell_type": "code",
   "execution_count": null,
   "id": "af687e1f-3406-4bd3-9cff-846249aadde2",
   "metadata": {},
   "outputs": [],
   "source": []
  }
 ],
 "metadata": {
  "kernelspec": {
   "display_name": "blog",
   "language": "python",
   "name": "blog"
  },
  "language_info": {
   "codemirror_mode": {
    "name": "ipython",
    "version": 3
   },
   "file_extension": ".py",
   "mimetype": "text/x-python",
   "name": "python",
   "nbconvert_exporter": "python",
   "pygments_lexer": "ipython3",
   "version": "3.9.4"
  }
 },
 "nbformat": 4,
 "nbformat_minor": 5
}
