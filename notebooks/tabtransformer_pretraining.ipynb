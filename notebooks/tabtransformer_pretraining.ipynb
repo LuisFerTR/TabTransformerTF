{
 "cells": [
  {
   "cell_type": "code",
   "execution_count": 14,
   "id": "b9b07e6d-09d0-4bb4-8048-c9d44da1f6d0",
   "metadata": {},
   "outputs": [],
   "source": [
    "import math\n",
    "import numpy as np\n",
    "import pandas as pd\n",
    "import tensorflow as tf\n",
    "from tensorflow import keras\n",
    "from tensorflow.keras import layers\n",
    "import tensorflow_addons as tfa\n",
    "import matplotlib.pyplot as plt\n",
    "from sklearn.model_selection import train_test_split\n",
    "from sklearn.metrics import roc_auc_score, average_precision_score\n",
    "from tensorflow.keras.callbacks import EarlyStopping\n",
    "\n",
    "from tabtransformertf.models.tabtransformer import TabTransformer, TabTransformerRTD\n",
    "from tabtransformertf.utils.preprocessing import df_to_dataset, build_categorical_prep, df_to_pretrain_dataset"
   ]
  },
  {
   "cell_type": "code",
   "execution_count": 28,
   "id": "1af0eafe-c191-44d1-88e8-f2ea0b0c6864",
   "metadata": {},
   "outputs": [],
   "source": [
    "from tabtransformertf.utils.helper import corrupt_dataset\n",
    "\n",
    "def df_to_pretrain_dataset(\n",
    "    x: pd.DataFrame,\n",
    "    shuffle: bool = True,\n",
    "    batch_size: int = 512,\n",
    "    p_replace: float = 0.3,\n",
    "):\n",
    "    x, y = corrupt_dataset(x, p_replace)\n",
    "    print(x.info())\n",
    "    dataset = {}\n",
    "    for key, value in x.items():\n",
    "        dataset[key] = value[:, tf.newaxis]\n",
    "\n",
    "    dataset = tf.data.Dataset.from_tensor_slices((dict(dataset), y))\n",
    "\n",
    "    if shuffle:\n",
    "        dataset = dataset.shuffle(buffer_size=len(x))\n",
    "    dataset = dataset.batch(batch_size)\n",
    "    dataset = dataset.prefetch(batch_size)\n",
    "    return dataset"
   ]
  },
  {
   "cell_type": "markdown",
   "id": "7fd249ee-16de-4aa3-b757-001e0373f8c2",
   "metadata": {},
   "source": [
    "## Download Data"
   ]
  },
  {
   "cell_type": "code",
   "execution_count": 1,
   "id": "6f1a941b-a118-488a-9b4a-63c758f7983d",
   "metadata": {},
   "outputs": [],
   "source": [
    "CSV_HEADER = [\n",
    "    \"age\",\n",
    "    \"workclass\",\n",
    "    \"fnlwgt\",\n",
    "    \"education\",\n",
    "    \"education_num\",\n",
    "    \"marital_status\",\n",
    "    \"occupation\",\n",
    "    \"relationship\",\n",
    "    \"race\",\n",
    "    \"gender\",\n",
    "    \"capital_gain\",\n",
    "    \"capital_loss\",\n",
    "    \"hours_per_week\",\n",
    "    \"native_country\",\n",
    "    \"income_bracket\",\n",
    "]\n",
    "\n",
    "train_data_url = (\n",
    "    \"https://archive.ics.uci.edu/ml/machine-learning-databases/adult/adult.data\"\n",
    ")\n",
    "train_data = pd.read_csv(train_data_url, header=None, names=CSV_HEADER)\n",
    "\n",
    "test_data_url = (\n",
    "    \"https://archive.ics.uci.edu/ml/machine-learning-databases/adult/adult.test\"\n",
    ")\n",
    "test_data = pd.read_csv(test_data_url, header=None, names=CSV_HEADER)\n",
    "\n",
    "print(f\"Train dataset shape: {train_data.shape}\")\n",
    "print(f\"Test dataset shape: {test_data.shape}\")"
   ]
  },
  {
   "cell_type": "code",
   "execution_count": 3,
   "id": "bce161fa-9bc1-419a-b6fa-f467f478df5f",
   "metadata": {},
   "outputs": [],
   "source": [
    "train_data.head()"
   ]
  },
  {
   "cell_type": "markdown",
   "id": "e97a337e-9e55-459f-ab67-5fc907148d93",
   "metadata": {},
   "source": [
    "## Preprocess"
   ]
  },
  {
   "cell_type": "code",
   "execution_count": null,
   "id": "75ff7fc9-b31c-4d85-8315-83a4fbdf2ae6",
   "metadata": {},
   "outputs": [],
   "source": [
    "# Column information\n",
    "NUMERIC_FEATURES = train_data.select_dtypes(include=np.number).columns\n",
    "CATEGORICAL_FEATURES = train_data.select_dtypes(exclude=np.number).columns[:-1] # exclude label column and DT\n",
    "\n",
    "FEATURES = list(NUMERIC_FEATURES) + list(CATEGORICAL_FEATURES)\n",
    "LABEL = 'income_bracket'"
   ]
  },
  {
   "cell_type": "code",
   "execution_count": 4,
   "id": "c1279eb4-13ef-4f6b-ae26-aad4c70e267e",
   "metadata": {},
   "outputs": [],
   "source": [
    "# encoding as binary target\n",
    "train_data[LABEL] = train_data[LABEL].apply(lambda x: int(x == ' >50K')) \n",
    "test_data[LABEL] = test_data[LABEL].apply(lambda x: int(x == ' >50K.'))\n",
    "train_data[LABEL].mean(), test_data[LABEL].mean()"
   ]
  },
  {
   "cell_type": "code",
   "execution_count": null,
   "id": "ffbf5d5e-c1b2-4004-b9a7-3b35b41a7ea4",
   "metadata": {},
   "outputs": [],
   "source": [
    "test_data = test_data.iloc[1:, :] # drop invalid row\n",
    "\n",
    "# Set data types\n",
    "train_data[CATEGORICAL_FEATURES] = train_data[CATEGORICAL_FEATURES].astype(str)\n",
    "test_data[CATEGORICAL_FEATURES] = test_data[CATEGORICAL_FEATURES].astype(str)\n",
    "\n",
    "train_data[NUMERIC_FEATURES] = train_data[NUMERIC_FEATURES].astype(float)\n",
    "test_data[NUMERIC_FEATURES] = test_data[NUMERIC_FEATURES].astype(float)\n",
    "\n",
    "# Train/test split\n",
    "X_train, X_val = train_test_split(train_data, test_size=0.2)"
   ]
  },
  {
   "cell_type": "markdown",
   "id": "0bfd5683-0368-468e-8153-9c7f6e77081b",
   "metadata": {},
   "source": [
    "## Modelling Prep\n"
   ]
  },
  {
   "cell_type": "code",
   "execution_count": 5,
   "id": "a37f2e0e-2d08-4c38-8cee-a4321fc0bd47",
   "metadata": {},
   "outputs": [],
   "source": [
    "# Category preprocessing layers\n",
    "category_prep_layers = build_categorical_prep(X_train, CATEGORICAL_FEATURES)"
   ]
  },
  {
   "cell_type": "code",
   "execution_count": null,
   "id": "b5408cd2-4d58-4461-a737-ce9cbb8b379b",
   "metadata": {},
   "outputs": [],
   "source": [
    "from tabtransformertf.utils.helper import corrupt_dataset\n",
    "\n",
    "def df_to_pretrain_dataset(\n",
    "    x: pd.DataFrame,\n",
    "    numeric_columns,\n",
    "    categorical_columns,\n",
    "    shuffle: bool = True,\n",
    "    batch_size: int = 512,\n",
    "    p_replace: float = 0.3,\n",
    "    \n",
    "):\n",
    "    x, y = corrupt_dataset(x, p_replace)\n",
    "    x[numeric_columns] = x[numeric_columns].astype(float)\n",
    "    x[categorical_columns] = x[categorical_columns].astype(str)\n",
    "    \n",
    "    dataset = {}\n",
    "    for key, value in x.items():\n",
    "        dataset[key] = value[:, tf.newaxis]\n",
    "\n",
    "    dataset = tf.data.Dataset.from_tensor_slices((dict(dataset), y))\n",
    "\n",
    "    if shuffle:\n",
    "        dataset = dataset.shuffle(buffer_size=len(x))\n",
    "    dataset = dataset.batch(batch_size)\n",
    "    dataset = dataset.prefetch(batch_size)\n",
    "    return dataset"
   ]
  },
  {
   "cell_type": "code",
   "execution_count": 6,
   "id": "247ca822-caed-491e-8cd2-8c6319d9967d",
   "metadata": {},
   "outputs": [],
   "source": [
    "# Prepare pretraining dataset\n",
    "pretrain_data = pd.concat([X_train[FEATURES], X_val[FEATURES], test_data[FEATURES]])\n",
    "pretrain_train, pretrain_val = train_test_split(pretrain_data, test_size=0.2)\n",
    "\n",
    "rtd_train_dataset = df_to_pretrain_dataset(pretrain_train, NUMERIC_FEATURES, CATEGORICAL_FEATURES)\n",
    "rtd_val_dataset = df_to_pretrain_dataset(pretrain_val, NUMERIC_FEATURES, CATEGORICAL_FEATURES, shuffle=False, p_replace=0.3)"
   ]
  },
  {
   "cell_type": "code",
   "execution_count": 7,
   "id": "c1374889-ae64-4d81-ba6e-61621b9fc2af",
   "metadata": {},
   "outputs": [],
   "source": [
    "# To TF Dataset\n",
    "train_dataset = df_to_dataset(X_train[FEATURES + [LABEL]], LABEL)\n",
    "val_dataset = df_to_dataset(X_val[FEATURES + [LABEL]], LABEL, shuffle=False)  # No shuffle\n",
    "test_dataset = df_to_dataset(test_data[FEATURES], shuffle=False) # No target, no shuffle"
   ]
  },
  {
   "cell_type": "markdown",
   "id": "b450caa0-bdca-4269-b612-4cd9b3b46753",
   "metadata": {},
   "source": [
    "## Pre-Training"
   ]
  },
  {
   "cell_type": "code",
   "execution_count": 8,
   "id": "8faed147-0172-4e71-b6ef-cb0de5c814c7",
   "metadata": {},
   "outputs": [],
   "source": [
    "tabtransformer_pretraining = TabTransformerRTD(\n",
    "    numerical_features = NUMERIC_FEATURES,\n",
    "    categorical_features = CATEGORICAL_FEATURES,\n",
    "    categorical_lookup=category_prep_layers,\n",
    "    numerical_discretisers=None, # simply passing the numeric features\n",
    "    embedding_dim=32,\n",
    "    depth=4,\n",
    "    heads=8,\n",
    "    attn_dropout=0.3,\n",
    "    ff_dropout=0.2,\n",
    "    use_column_embedding=True\n",
    ")\n",
    "\n",
    "LEARNING_RATE = 0.001\n",
    "WEIGHT_DECAY = 0.0001\n",
    "NUM_EPOCHS = 1000\n",
    "\n",
    "optimizer = tfa.optimizers.AdamW(\n",
    "        learning_rate=LEARNING_RATE, weight_decay=WEIGHT_DECAY\n",
    "    )\n",
    "\n",
    "tabtransformer_pretraining.compile(\n",
    "    optimizer = optimizer,\n",
    "    loss = tf.keras.losses.BinaryCrossentropy(),\n",
    "    metrics= [tf.keras.metrics.AUC(name=\"AUC\", curve='ROC')],\n",
    ")\n",
    "\n",
    "early = EarlyStopping(monitor=\"val_loss\", mode=\"min\", patience=10, restore_best_weights=True)\n",
    "callback_list = [early]\n",
    "\n",
    "history = tabtransformer_pretraining.fit(\n",
    "    rtd_train_dataset, \n",
    "    epochs=NUM_EPOCHS, \n",
    "    validation_data=rtd_val_dataset,\n",
    "    callbacks=callback_list,\n",
    "    verbose=1,\n",
    ")"
   ]
  },
  {
   "cell_type": "markdown",
   "id": "b09a6b84-35f2-498c-af59-967a18102649",
   "metadata": {},
   "source": [
    "## Training"
   ]
  },
  {
   "cell_type": "code",
   "execution_count": null,
   "id": "da50b222-03c8-44f4-8261-021d9558740e",
   "metadata": {},
   "outputs": [],
   "source": [
    "tabtransformer = TabTransformer(\n",
    "        out_dim=1,\n",
    "        out_activation='sigmoid',\n",
    "        encoder=tabtransformer_pretraining.encoder\n",
    "    )\n",
    "_ = tabtransformer.predict(val_dataset)"
   ]
  },
  {
   "cell_type": "code",
   "execution_count": 9,
   "id": "0c479f03-e957-486e-b512-c51a1dbf7a3f",
   "metadata": {},
   "outputs": [],
   "source": [
    "# tabtransformer.save('untrained_tabtransformer/')"
   ]
  },
  {
   "cell_type": "code",
   "execution_count": 10,
   "id": "e25173a5-9749-47b8-b21f-bdfbe77bd03e",
   "metadata": {},
   "outputs": [],
   "source": [
    "# tabtransformer = tf.keras.models.load_model('untrained_tabtransformer/')"
   ]
  },
  {
   "cell_type": "code",
   "execution_count": null,
   "id": "9e42a6c3-fcbb-492f-8e0f-e1ea771ab5ca",
   "metadata": {},
   "outputs": [],
   "source": [
    "tabtransformer.encoder.trainable = False"
   ]
  },
  {
   "cell_type": "code",
   "execution_count": 11,
   "id": "6db41438-8a96-4f36-b182-a6af3b4e9e23",
   "metadata": {},
   "outputs": [],
   "source": [
    "LEARNING_RATE = 0.0001\n",
    "WEIGHT_DECAY = 0.0001\n",
    "NUM_EPOCHS = 1000\n",
    "\n",
    "optimizer = tfa.optimizers.AdamW(\n",
    "        learning_rate=LEARNING_RATE, weight_decay=WEIGHT_DECAY\n",
    "    )\n",
    "\n",
    "tabtransformer.compile(\n",
    "    optimizer = optimizer,\n",
    "    loss = tf.keras.losses.BinaryCrossentropy(),\n",
    "    metrics= [tf.keras.metrics.AUC(name=\"AUC\", curve='ROC')],\n",
    ")\n",
    "\n",
    "early = EarlyStopping(monitor=\"val_loss\", mode=\"min\", patience=10, restore_best_weights=True)\n",
    "callback_list = [early]\n",
    "\n",
    "history = tabtransformer.fit(\n",
    "    train_dataset, \n",
    "    epochs=NUM_EPOCHS, \n",
    "    validation_data=val_dataset,\n",
    "    callbacks=callback_list,\n",
    "    verbose=1,\n",
    ")\n"
   ]
  },
  {
   "cell_type": "code",
   "execution_count": null,
   "id": "db0d6e04-cad5-426e-ab2d-79d2419294c6",
   "metadata": {},
   "outputs": [],
   "source": [
    "test_preds = tabtransformer.predict(test_dataset)"
   ]
  },
  {
   "cell_type": "code",
   "execution_count": 12,
   "id": "d9b24037-8aae-42b9-a9a4-f27af2cf2bc8",
   "metadata": {},
   "outputs": [],
   "source": [
    "print(\"Test ROC AUC:\", np.round(roc_auc_score(test_data[LABEL], test_preds.ravel()), 4))\n",
    "print(\"Test PR AUC:\", np.round(average_precision_score(test_data[LABEL], test_preds.ravel()), 4))"
   ]
  },
  {
   "cell_type": "code",
   "execution_count": null,
   "id": "ec207640",
   "metadata": {},
   "outputs": [],
   "source": []
  }
 ],
 "metadata": {
  "interpreter": {
   "hash": "aee8b7b246df8f9039afb4144a1f6fd8d2ca17a180786b69acc140d282b71a49"
  },
  "kernelspec": {
   "display_name": "blog",
   "language": "python",
   "name": "python3"
  },
  "language_info": {
   "codemirror_mode": {
    "name": "ipython",
    "version": 3
   },
   "file_extension": ".py",
   "mimetype": "text/x-python",
   "name": "python",
   "nbconvert_exporter": "python",
   "pygments_lexer": "ipython3",
   "version": "3.10.0"
  }
 },
 "nbformat": 4,
 "nbformat_minor": 5
}
